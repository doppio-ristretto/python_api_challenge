{
 "cells": [
  {
   "cell_type": "code",
   "execution_count": 1,
   "metadata": {},
   "outputs": [],
   "source": [
    " # Dependencies and Setup\n",
    "import matplotlib.pyplot as plt\n",
    "import pandas as pd\n",
    "import numpy as np\n",
    "import requests\n",
    "import gmaps\n",
    "import os\n",
    "\n",
    "# Import API key\n",
    "from api_keys import g_key"
   ]
  },
  {
   "cell_type": "code",
   "execution_count": 2,
   "metadata": {},
   "outputs": [
    {
     "output_type": "execute_result",
     "data": {
      "text/plain": "   Unnamed: 0          City  Latitude  Longitude  Max Temp  Humidity  \\\n0           0   port alfred    -33.59      26.89     59.67        34   \n1           1       jiuquan     39.74      98.52     84.92        23   \n2           2  beringovskiy     63.05     179.32     51.19        81   \n3           3       gambela      8.25      34.58     69.64        90   \n4           4  punta arenas    -53.15     -70.92     33.80        83   \n\n   Cloudiness  Wind Speed Country        Date  \n0           0        9.48      ZA  1594600970  \n1         100       10.87      CN  1594601138  \n2         100        9.42      RU  1594601042  \n3         100        1.99      ET  1594601164  \n4          24        8.05      CL  1594601164  ",
      "text/html": "<div>\n<style scoped>\n    .dataframe tbody tr th:only-of-type {\n        vertical-align: middle;\n    }\n\n    .dataframe tbody tr th {\n        vertical-align: top;\n    }\n\n    .dataframe thead th {\n        text-align: right;\n    }\n</style>\n<table border=\"1\" class=\"dataframe\">\n  <thead>\n    <tr style=\"text-align: right;\">\n      <th></th>\n      <th>Unnamed: 0</th>\n      <th>City</th>\n      <th>Latitude</th>\n      <th>Longitude</th>\n      <th>Max Temp</th>\n      <th>Humidity</th>\n      <th>Cloudiness</th>\n      <th>Wind Speed</th>\n      <th>Country</th>\n      <th>Date</th>\n    </tr>\n  </thead>\n  <tbody>\n    <tr>\n      <th>0</th>\n      <td>0</td>\n      <td>port alfred</td>\n      <td>-33.59</td>\n      <td>26.89</td>\n      <td>59.67</td>\n      <td>34</td>\n      <td>0</td>\n      <td>9.48</td>\n      <td>ZA</td>\n      <td>1594600970</td>\n    </tr>\n    <tr>\n      <th>1</th>\n      <td>1</td>\n      <td>jiuquan</td>\n      <td>39.74</td>\n      <td>98.52</td>\n      <td>84.92</td>\n      <td>23</td>\n      <td>100</td>\n      <td>10.87</td>\n      <td>CN</td>\n      <td>1594601138</td>\n    </tr>\n    <tr>\n      <th>2</th>\n      <td>2</td>\n      <td>beringovskiy</td>\n      <td>63.05</td>\n      <td>179.32</td>\n      <td>51.19</td>\n      <td>81</td>\n      <td>100</td>\n      <td>9.42</td>\n      <td>RU</td>\n      <td>1594601042</td>\n    </tr>\n    <tr>\n      <th>3</th>\n      <td>3</td>\n      <td>gambela</td>\n      <td>8.25</td>\n      <td>34.58</td>\n      <td>69.64</td>\n      <td>90</td>\n      <td>100</td>\n      <td>1.99</td>\n      <td>ET</td>\n      <td>1594601164</td>\n    </tr>\n    <tr>\n      <th>4</th>\n      <td>4</td>\n      <td>punta arenas</td>\n      <td>-53.15</td>\n      <td>-70.92</td>\n      <td>33.80</td>\n      <td>83</td>\n      <td>24</td>\n      <td>8.05</td>\n      <td>CL</td>\n      <td>1594601164</td>\n    </tr>\n  </tbody>\n</table>\n</div>"
     },
     "metadata": {},
     "execution_count": 2
    }
   ],
   "source": [
    "cities = pd.read_csv('../output_data/weathercsv.csv')\n",
    "cities.head()"
   ]
  },
  {
   "cell_type": "code",
   "execution_count": 3,
   "metadata": {},
   "outputs": [
    {
     "output_type": "display_data",
     "data": {
      "text/plain": "Figure(layout=FigureLayout(height='420px'))",
      "application/vnd.jupyter.widget-view+json": {
       "version_major": 2,
       "version_minor": 0,
       "model_id": "bc53e8b6aeec44abbfd89e1ab9920f80"
      }
     },
     "metadata": {}
    },
    {
     "output_type": "display_data",
     "data": {
      "text/plain": "<Figure size 432x288 with 0 Axes>"
     },
     "metadata": {}
    }
   ],
   "source": [
    "humidity = cities['Humidity'].astype(float)\n",
    "maxhumidity = humidity.max()\n",
    "locations = cities[['Latitude', 'Longitude']]\n",
    "fig = gmaps.figure()\n",
    "heat_layer = gmaps.heatmap_layer(locations, weights=humidity, max_intensity=maxhumidity,point_radius=3)\n",
    "fig.add_layer(heat_layer)\n",
    "plt.savefig('../output_data/humidgmap.png')\n",
    "fig"
   ]
  },
  {
   "cell_type": "code",
   "execution_count": 4,
   "metadata": {},
   "outputs": [
    {
     "output_type": "execute_result",
     "data": {
      "text/plain": "                         City  Latitude  Longitude  Max Temp  Humidity  \\\n0                     ushtobe     45.25      77.98     70.65        36   \n1                    ilhabela    -23.78     -45.36     74.70        61   \n2                    agropoli     40.35      15.00     73.00        62   \n3                   la solana     38.94      -3.24     73.00        78   \n4                 mitsamiouli    -11.38      43.28     77.31        73   \n5                        aksu     41.12      80.26     74.41        32   \n6              castelo branco     39.82      -7.49     80.01        42   \n7                     cascais     38.70      -9.42     73.99        53   \n8                        nola     40.92      14.53     77.00        44   \n9    sao jose da coroa grande     -8.90     -35.15     74.75        79   \n10                    sikasso     10.92      -7.00     74.28        91   \n11                    aljezur     37.32      -8.80     75.99        51   \n12                    corinto     37.94      22.96     75.99        45   \n13                    sakakah     29.97      40.21     79.95        28   \n14  sao benedito do rio preto     -3.33     -43.53     73.35        88   \n15                 nouadhibou     20.93     -17.03     73.40        78   \n16                       lata     40.16      -8.33     72.00        73   \n\n    Cloudiness  Wind Speed Country        Date  \n0            0        4.14      KZ  1594601183  \n1            0        5.84      BR  1594601187  \n2            0        5.01      IT  1594601197  \n3            0        8.01      ES  1594601198  \n4            0        4.74      KM  1594601209  \n5            0        2.64      CN  1594601210  \n6            0        1.99      PT  1594601215  \n7            0        1.99      PT  1594601220  \n8            0        9.17      IT  1594601223  \n9            0        8.55      BR  1594601236  \n10           0        4.52      ML  1594601241  \n11           0        6.53      PT  1594601253  \n12           0        1.01      GR  1594601254  \n13           0        9.69      SA  1594601258  \n14           0        2.77      BR  1594601263  \n15           0        8.05      MR  1594600999  \n16           0        2.75      PT  1594601139  ",
      "text/html": "<div>\n<style scoped>\n    .dataframe tbody tr th:only-of-type {\n        vertical-align: middle;\n    }\n\n    .dataframe tbody tr th {\n        vertical-align: top;\n    }\n\n    .dataframe thead th {\n        text-align: right;\n    }\n</style>\n<table border=\"1\" class=\"dataframe\">\n  <thead>\n    <tr style=\"text-align: right;\">\n      <th></th>\n      <th>City</th>\n      <th>Latitude</th>\n      <th>Longitude</th>\n      <th>Max Temp</th>\n      <th>Humidity</th>\n      <th>Cloudiness</th>\n      <th>Wind Speed</th>\n      <th>Country</th>\n      <th>Date</th>\n    </tr>\n  </thead>\n  <tbody>\n    <tr>\n      <th>0</th>\n      <td>ushtobe</td>\n      <td>45.25</td>\n      <td>77.98</td>\n      <td>70.65</td>\n      <td>36</td>\n      <td>0</td>\n      <td>4.14</td>\n      <td>KZ</td>\n      <td>1594601183</td>\n    </tr>\n    <tr>\n      <th>1</th>\n      <td>ilhabela</td>\n      <td>-23.78</td>\n      <td>-45.36</td>\n      <td>74.70</td>\n      <td>61</td>\n      <td>0</td>\n      <td>5.84</td>\n      <td>BR</td>\n      <td>1594601187</td>\n    </tr>\n    <tr>\n      <th>2</th>\n      <td>agropoli</td>\n      <td>40.35</td>\n      <td>15.00</td>\n      <td>73.00</td>\n      <td>62</td>\n      <td>0</td>\n      <td>5.01</td>\n      <td>IT</td>\n      <td>1594601197</td>\n    </tr>\n    <tr>\n      <th>3</th>\n      <td>la solana</td>\n      <td>38.94</td>\n      <td>-3.24</td>\n      <td>73.00</td>\n      <td>78</td>\n      <td>0</td>\n      <td>8.01</td>\n      <td>ES</td>\n      <td>1594601198</td>\n    </tr>\n    <tr>\n      <th>4</th>\n      <td>mitsamiouli</td>\n      <td>-11.38</td>\n      <td>43.28</td>\n      <td>77.31</td>\n      <td>73</td>\n      <td>0</td>\n      <td>4.74</td>\n      <td>KM</td>\n      <td>1594601209</td>\n    </tr>\n    <tr>\n      <th>5</th>\n      <td>aksu</td>\n      <td>41.12</td>\n      <td>80.26</td>\n      <td>74.41</td>\n      <td>32</td>\n      <td>0</td>\n      <td>2.64</td>\n      <td>CN</td>\n      <td>1594601210</td>\n    </tr>\n    <tr>\n      <th>6</th>\n      <td>castelo branco</td>\n      <td>39.82</td>\n      <td>-7.49</td>\n      <td>80.01</td>\n      <td>42</td>\n      <td>0</td>\n      <td>1.99</td>\n      <td>PT</td>\n      <td>1594601215</td>\n    </tr>\n    <tr>\n      <th>7</th>\n      <td>cascais</td>\n      <td>38.70</td>\n      <td>-9.42</td>\n      <td>73.99</td>\n      <td>53</td>\n      <td>0</td>\n      <td>1.99</td>\n      <td>PT</td>\n      <td>1594601220</td>\n    </tr>\n    <tr>\n      <th>8</th>\n      <td>nola</td>\n      <td>40.92</td>\n      <td>14.53</td>\n      <td>77.00</td>\n      <td>44</td>\n      <td>0</td>\n      <td>9.17</td>\n      <td>IT</td>\n      <td>1594601223</td>\n    </tr>\n    <tr>\n      <th>9</th>\n      <td>sao jose da coroa grande</td>\n      <td>-8.90</td>\n      <td>-35.15</td>\n      <td>74.75</td>\n      <td>79</td>\n      <td>0</td>\n      <td>8.55</td>\n      <td>BR</td>\n      <td>1594601236</td>\n    </tr>\n    <tr>\n      <th>10</th>\n      <td>sikasso</td>\n      <td>10.92</td>\n      <td>-7.00</td>\n      <td>74.28</td>\n      <td>91</td>\n      <td>0</td>\n      <td>4.52</td>\n      <td>ML</td>\n      <td>1594601241</td>\n    </tr>\n    <tr>\n      <th>11</th>\n      <td>aljezur</td>\n      <td>37.32</td>\n      <td>-8.80</td>\n      <td>75.99</td>\n      <td>51</td>\n      <td>0</td>\n      <td>6.53</td>\n      <td>PT</td>\n      <td>1594601253</td>\n    </tr>\n    <tr>\n      <th>12</th>\n      <td>corinto</td>\n      <td>37.94</td>\n      <td>22.96</td>\n      <td>75.99</td>\n      <td>45</td>\n      <td>0</td>\n      <td>1.01</td>\n      <td>GR</td>\n      <td>1594601254</td>\n    </tr>\n    <tr>\n      <th>13</th>\n      <td>sakakah</td>\n      <td>29.97</td>\n      <td>40.21</td>\n      <td>79.95</td>\n      <td>28</td>\n      <td>0</td>\n      <td>9.69</td>\n      <td>SA</td>\n      <td>1594601258</td>\n    </tr>\n    <tr>\n      <th>14</th>\n      <td>sao benedito do rio preto</td>\n      <td>-3.33</td>\n      <td>-43.53</td>\n      <td>73.35</td>\n      <td>88</td>\n      <td>0</td>\n      <td>2.77</td>\n      <td>BR</td>\n      <td>1594601263</td>\n    </tr>\n    <tr>\n      <th>15</th>\n      <td>nouadhibou</td>\n      <td>20.93</td>\n      <td>-17.03</td>\n      <td>73.40</td>\n      <td>78</td>\n      <td>0</td>\n      <td>8.05</td>\n      <td>MR</td>\n      <td>1594600999</td>\n    </tr>\n    <tr>\n      <th>16</th>\n      <td>lata</td>\n      <td>40.16</td>\n      <td>-8.33</td>\n      <td>72.00</td>\n      <td>73</td>\n      <td>0</td>\n      <td>2.75</td>\n      <td>PT</td>\n      <td>1594601139</td>\n    </tr>\n  </tbody>\n</table>\n</div>"
     },
     "metadata": {},
     "execution_count": 4
    }
   ],
   "source": [
    "\n",
    "newdf = cities.loc[(cities['Max Temp'] > 70) & (cities['Max Temp'] < 95) & (cities['Cloudiness'] == 0) & (cities['Wind Speed'] < 10), :]\n",
    "newdf = newdf.dropna(how='any')\n",
    "newdf.reset_index(inplace=True)\n",
    "del newdf['index']\n",
    "del newdf['Unnamed: 0']\n",
    "newdf"
   ]
  },
  {
   "cell_type": "code",
   "execution_count": 5,
   "metadata": {},
   "outputs": [
    {
     "output_type": "execute_result",
     "data": {
      "text/plain": "                         City  Latitude  Longitude  Max Temp  Humidity  \\\n1                    ilhabela    -23.78     -45.36     74.70        61   \n2                    agropoli     40.35      15.00     73.00        62   \n3                   la solana     38.94      -3.24     73.00        78   \n4                 mitsamiouli    -11.38      43.28     77.31        73   \n5                        aksu     41.12      80.26     74.41        32   \n6              castelo branco     39.82      -7.49     80.01        42   \n7                     cascais     38.70      -9.42     73.99        53   \n8                        nola     40.92      14.53     77.00        44   \n9    sao jose da coroa grande     -8.90     -35.15     74.75        79   \n11                    aljezur     37.32      -8.80     75.99        51   \n12                    corinto     37.94      22.96     75.99        45   \n13                    sakakah     29.97      40.21     79.95        28   \n14  sao benedito do rio preto     -3.33     -43.53     73.35        88   \n15                 nouadhibou     20.93     -17.03     73.40        78   \n16                       lata     40.16      -8.33     72.00        73   \n\n    Cloudiness  Wind Speed Country        Date  \\\n1            0        5.84      BR  1594601187   \n2            0        5.01      IT  1594601197   \n3            0        8.01      ES  1594601198   \n4            0        4.74      KM  1594601209   \n5            0        2.64      CN  1594601210   \n6            0        1.99      PT  1594601215   \n7            0        1.99      PT  1594601220   \n8            0        9.17      IT  1594601223   \n9            0        8.55      BR  1594601236   \n11           0        6.53      PT  1594601253   \n12           0        1.01      GR  1594601254   \n13           0        9.69      SA  1594601258   \n14           0        2.77      BR  1594601263   \n15           0        8.05      MR  1594600999   \n16           0        2.75      PT  1594601139   \n\n                                 Hotel Name  \n1                           Ilha Flat Hotel  \n2                  Paestum Inn Beach Resort  \n3                            Hotel El Lagar  \n4                                Moina Lisa  \n5              Tianyuan International Hotel  \n6                      MELIÃ Castelo Branco  \n7                    Hotel Albatroz Cascais  \n8   Holiday Inn Nola - Naples Vulcano Buono  \n9                       Pousada Barra Velha  \n11                     Vicentina Aparthotel  \n12              Hotel King Saron Ξενοδοχείο  \n13                          Raoum Inn Hotel  \n14                             Curuzu Hotel  \n15               Free Zone Hotel Nouadhibou  \n16                        Magnolias Cottage  ",
      "text/html": "<div>\n<style scoped>\n    .dataframe tbody tr th:only-of-type {\n        vertical-align: middle;\n    }\n\n    .dataframe tbody tr th {\n        vertical-align: top;\n    }\n\n    .dataframe thead th {\n        text-align: right;\n    }\n</style>\n<table border=\"1\" class=\"dataframe\">\n  <thead>\n    <tr style=\"text-align: right;\">\n      <th></th>\n      <th>City</th>\n      <th>Latitude</th>\n      <th>Longitude</th>\n      <th>Max Temp</th>\n      <th>Humidity</th>\n      <th>Cloudiness</th>\n      <th>Wind Speed</th>\n      <th>Country</th>\n      <th>Date</th>\n      <th>Hotel Name</th>\n    </tr>\n  </thead>\n  <tbody>\n    <tr>\n      <th>1</th>\n      <td>ilhabela</td>\n      <td>-23.78</td>\n      <td>-45.36</td>\n      <td>74.70</td>\n      <td>61</td>\n      <td>0</td>\n      <td>5.84</td>\n      <td>BR</td>\n      <td>1594601187</td>\n      <td>Ilha Flat Hotel</td>\n    </tr>\n    <tr>\n      <th>2</th>\n      <td>agropoli</td>\n      <td>40.35</td>\n      <td>15.00</td>\n      <td>73.00</td>\n      <td>62</td>\n      <td>0</td>\n      <td>5.01</td>\n      <td>IT</td>\n      <td>1594601197</td>\n      <td>Paestum Inn Beach Resort</td>\n    </tr>\n    <tr>\n      <th>3</th>\n      <td>la solana</td>\n      <td>38.94</td>\n      <td>-3.24</td>\n      <td>73.00</td>\n      <td>78</td>\n      <td>0</td>\n      <td>8.01</td>\n      <td>ES</td>\n      <td>1594601198</td>\n      <td>Hotel El Lagar</td>\n    </tr>\n    <tr>\n      <th>4</th>\n      <td>mitsamiouli</td>\n      <td>-11.38</td>\n      <td>43.28</td>\n      <td>77.31</td>\n      <td>73</td>\n      <td>0</td>\n      <td>4.74</td>\n      <td>KM</td>\n      <td>1594601209</td>\n      <td>Moina Lisa</td>\n    </tr>\n    <tr>\n      <th>5</th>\n      <td>aksu</td>\n      <td>41.12</td>\n      <td>80.26</td>\n      <td>74.41</td>\n      <td>32</td>\n      <td>0</td>\n      <td>2.64</td>\n      <td>CN</td>\n      <td>1594601210</td>\n      <td>Tianyuan International Hotel</td>\n    </tr>\n    <tr>\n      <th>6</th>\n      <td>castelo branco</td>\n      <td>39.82</td>\n      <td>-7.49</td>\n      <td>80.01</td>\n      <td>42</td>\n      <td>0</td>\n      <td>1.99</td>\n      <td>PT</td>\n      <td>1594601215</td>\n      <td>MELIÃ Castelo Branco</td>\n    </tr>\n    <tr>\n      <th>7</th>\n      <td>cascais</td>\n      <td>38.70</td>\n      <td>-9.42</td>\n      <td>73.99</td>\n      <td>53</td>\n      <td>0</td>\n      <td>1.99</td>\n      <td>PT</td>\n      <td>1594601220</td>\n      <td>Hotel Albatroz Cascais</td>\n    </tr>\n    <tr>\n      <th>8</th>\n      <td>nola</td>\n      <td>40.92</td>\n      <td>14.53</td>\n      <td>77.00</td>\n      <td>44</td>\n      <td>0</td>\n      <td>9.17</td>\n      <td>IT</td>\n      <td>1594601223</td>\n      <td>Holiday Inn Nola - Naples Vulcano Buono</td>\n    </tr>\n    <tr>\n      <th>9</th>\n      <td>sao jose da coroa grande</td>\n      <td>-8.90</td>\n      <td>-35.15</td>\n      <td>74.75</td>\n      <td>79</td>\n      <td>0</td>\n      <td>8.55</td>\n      <td>BR</td>\n      <td>1594601236</td>\n      <td>Pousada Barra Velha</td>\n    </tr>\n    <tr>\n      <th>11</th>\n      <td>aljezur</td>\n      <td>37.32</td>\n      <td>-8.80</td>\n      <td>75.99</td>\n      <td>51</td>\n      <td>0</td>\n      <td>6.53</td>\n      <td>PT</td>\n      <td>1594601253</td>\n      <td>Vicentina Aparthotel</td>\n    </tr>\n    <tr>\n      <th>12</th>\n      <td>corinto</td>\n      <td>37.94</td>\n      <td>22.96</td>\n      <td>75.99</td>\n      <td>45</td>\n      <td>0</td>\n      <td>1.01</td>\n      <td>GR</td>\n      <td>1594601254</td>\n      <td>Hotel King Saron Ξενοδοχείο</td>\n    </tr>\n    <tr>\n      <th>13</th>\n      <td>sakakah</td>\n      <td>29.97</td>\n      <td>40.21</td>\n      <td>79.95</td>\n      <td>28</td>\n      <td>0</td>\n      <td>9.69</td>\n      <td>SA</td>\n      <td>1594601258</td>\n      <td>Raoum Inn Hotel</td>\n    </tr>\n    <tr>\n      <th>14</th>\n      <td>sao benedito do rio preto</td>\n      <td>-3.33</td>\n      <td>-43.53</td>\n      <td>73.35</td>\n      <td>88</td>\n      <td>0</td>\n      <td>2.77</td>\n      <td>BR</td>\n      <td>1594601263</td>\n      <td>Curuzu Hotel</td>\n    </tr>\n    <tr>\n      <th>15</th>\n      <td>nouadhibou</td>\n      <td>20.93</td>\n      <td>-17.03</td>\n      <td>73.40</td>\n      <td>78</td>\n      <td>0</td>\n      <td>8.05</td>\n      <td>MR</td>\n      <td>1594600999</td>\n      <td>Free Zone Hotel Nouadhibou</td>\n    </tr>\n    <tr>\n      <th>16</th>\n      <td>lata</td>\n      <td>40.16</td>\n      <td>-8.33</td>\n      <td>72.00</td>\n      <td>73</td>\n      <td>0</td>\n      <td>2.75</td>\n      <td>PT</td>\n      <td>1594601139</td>\n      <td>Magnolias Cottage</td>\n    </tr>\n  </tbody>\n</table>\n</div>"
     },
     "metadata": {},
     "execution_count": 5
    }
   ],
   "source": [
    "hotel_name = []\n",
    "\n",
    "# params dictionary to update each iteration\n",
    "params = {\n",
    "    'radius': 5000,\n",
    "    'types': 'hotel',\n",
    "    'keyword': 'hotel',\n",
    "    'key': g_key}\n",
    "\n",
    "for index, row in newdf.iterrows():\n",
    "    lat = row['Latitude']\n",
    "    lng = row['Longitude']\n",
    "    params['location'] = f'{lat},{lng}'\n",
    "    base_url = 'https://maps.googleapis.com/maps/api/place/nearbysearch/json'\n",
    "    name_address = requests.get(base_url, params=params)\n",
    "    name_address = name_address.json()\n",
    "\n",
    "    try:\n",
    "        hotel_name.append(name_address['results'][0]['name'])\n",
    "    except IndexError:\n",
    "        hotel_name.append(np.nan)\n",
    "newdf['Hotel Name']=hotel_name\n",
    "newdf = newdf.dropna(how='any')\n",
    "newdf"
   ]
  },
  {
   "cell_type": "code",
   "execution_count": 6,
   "metadata": {},
   "outputs": [],
   "source": [
    "# NOTE: Do not change any of the code in this cell\n",
    "\n",
    "# Using the template add the hotel marks to the heatmap\n",
    "info_box_template = \"\"\"\n",
    "<dl>\n",
    "<dt>Name</dt><dd>{Hotel Name}</dd>\n",
    "<dt>City</dt><dd>{City}</dd>\n",
    "<dt>Country</dt><dd>{Country}</dd>\n",
    "</dl>\n",
    "\"\"\"\n",
    "# Store the DataFrame Row\n",
    "# NOTE: be sure to update with your DataFrame name\n",
    "hotel_info = [info_box_template.format(**row) for index, row in newdf.iterrows()]\n",
    "locations = newdf[[\"Latitude\", \"Longitude\"]]"
   ]
  },
  {
   "cell_type": "code",
   "execution_count": 8,
   "metadata": {},
   "outputs": [
    {
     "output_type": "display_data",
     "data": {
      "text/plain": "Figure(layout=FigureLayout(height='420px'))",
      "application/vnd.jupyter.widget-view+json": {
       "version_major": 2,
       "version_minor": 0,
       "model_id": "bc53e8b6aeec44abbfd89e1ab9920f80"
      }
     },
     "metadata": {}
    }
   ],
   "source": [
    "markers = gmaps.marker_layer(locations)\n",
    "fig.add_layer(markers)\n",
    "fig"
   ]
  },
  {
   "cell_type": "code",
   "execution_count": null,
   "metadata": {},
   "outputs": [],
   "source": []
  },
  {
   "cell_type": "code",
   "execution_count": null,
   "metadata": {},
   "outputs": [],
   "source": []
  },
  {
   "cell_type": "code",
   "execution_count": null,
   "metadata": {},
   "outputs": [],
   "source": []
  },
  {
   "cell_type": "code",
   "execution_count": null,
   "metadata": {},
   "outputs": [],
   "source": []
  },
  {
   "cell_type": "code",
   "execution_count": null,
   "metadata": {},
   "outputs": [],
   "source": []
  },
  {
   "cell_type": "code",
   "execution_count": null,
   "metadata": {},
   "outputs": [],
   "source": []
  },
  {
   "cell_type": "code",
   "execution_count": null,
   "metadata": {},
   "outputs": [],
   "source": []
  },
  {
   "cell_type": "code",
   "execution_count": null,
   "metadata": {},
   "outputs": [],
   "source": []
  }
 ],
 "metadata": {
  "language_info": {
   "codemirror_mode": {
    "name": "ipython",
    "version": 3
   },
   "file_extension": ".py",
   "mimetype": "text/x-python",
   "name": "python",
   "nbconvert_exporter": "python",
   "pygments_lexer": "ipython3",
   "version": "3.7.6-final"
  },
  "orig_nbformat": 2,
  "kernelspec": {
   "name": "python3",
   "display_name": "Python 3"
  }
 },
 "nbformat": 4,
 "nbformat_minor": 2
}